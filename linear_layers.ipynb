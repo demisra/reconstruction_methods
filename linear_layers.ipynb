{
 "cells": [
  {
   "cell_type": "code",
   "execution_count": 1,
   "metadata": {},
   "outputs": [],
   "source": [
    "import os\n",
    "import uproot as ur\n",
    "import numpy as np\n",
    "import pandas as pd\n",
    "import matplotlib.pyplot as plt"
   ]
  },
  {
   "cell_type": "code",
   "execution_count": 2,
   "metadata": {},
   "outputs": [],
   "source": [
    "paths = []\n",
    "\n",
    "for (path, dirnames, filenames) in os.walk('/home/dmisra/eic/zdc_neutron_samples'):\n",
    "    paths.extend(os.path.join(path, name) for name in filenames)"
   ]
  },
  {
   "cell_type": "code",
   "execution_count": 3,
   "metadata": {},
   "outputs": [],
   "source": [
    "samples = {}\n",
    "\n",
    "for path in paths:\n",
    "    with ur.open(path) as file:\n",
    "       tree = file[\"events\"]\n",
    "       samples[os.path.basename(f'{path}')] = tree.arrays()"
   ]
  },
  {
   "cell_type": "code",
   "execution_count": 4,
   "metadata": {},
   "outputs": [],
   "source": [
    "def bitExtract(n, k, p):  \n",
    "    return (((1 << k) - 1)  &  (n >> p))"
   ]
  },
  {
   "attachments": {},
   "cell_type": "markdown",
   "metadata": {},
   "source": [
    "Multi-Function Pre-Processing Step"
   ]
  },
  {
   "cell_type": "code",
   "execution_count": 5,
   "metadata": {},
   "outputs": [],
   "source": [
    "def get_labels(data, count):\n",
    "    energy_labels = []\n",
    "    for i in range(count):\n",
    "        index = str(i)\n",
    "        label = np.sqrt(data[\"MCParticles.momentum.x\"][0,0]**2 + data[\"MCParticles.momentum.y\"][0,0]**2 + data[\"MCParticles.momentum.z\"][0,0]**2)\n",
    "        energy_labels.append(label)\n",
    "    \n",
    "    return energy_labels"
   ]
  },
  {
   "cell_type": "code",
   "execution_count": 6,
   "metadata": {},
   "outputs": [],
   "source": [
    "def sipix_edep(data, count):\n",
    "    edep = pd.DataFrame(index=np.arange(1,2))\n",
    "    for i in range(count):\n",
    "        index = str(i)\n",
    "        energies = np.array(data['ZDC_SiliconPix_Hits.energy'][i])\n",
    "        cellID = np.array(data['ZDC_SiliconPix_Hits.cellID'][i])\n",
    "        layerID = bitExtract(cellID, 6, 8)\n",
    "        df = pd.DataFrame({f'{index}': energies, 'layerID': layerID})\n",
    "        layers = df.groupby(\"layerID\").sum()\n",
    "        edep = pd.concat([edep,layers[f'{index}']],axis=1)\n",
    "\n",
    "    return edep.T.replace(np.NaN,0)"
   ]
  },
  {
   "cell_type": "code",
   "execution_count": 7,
   "metadata": {},
   "outputs": [],
   "source": [
    "def crystal_edep(data, count):\n",
    "    edep = pd.DataFrame(index=np.arange(2,3))\n",
    "    for i in range(count):\n",
    "        index = str(i)\n",
    "        energies = np.array(data[\"ZDCEcalHits.energy\"][i])\n",
    "        cellID = np.array(data[\"ZDCEcalHits.cellID\"][i])\n",
    "        crystalID = bitExtract(cellID, 12, 10)\n",
    "        for i in range(len(crystalID)):\n",
    "            crystalID[i] = 2\n",
    "        df = pd.DataFrame({f'{index}': energies, 'crystalID': crystalID})\n",
    "        crystals = df.groupby(\"crystalID\").sum()\n",
    "        edep = pd.concat([edep,crystals[f'{index}']],axis=1)\n",
    "        \n",
    "    return edep.T.replace(np.NaN,0)"
   ]
  },
  {
   "cell_type": "code",
   "execution_count": 8,
   "metadata": {},
   "outputs": [],
   "source": [
    "def imaging_edep(data, count):\n",
    "    edep = pd.DataFrame(index=np.arange(3,26))\n",
    "    for i in range(count):\n",
    "        index = str(i)\n",
    "        energies = np.array(data[\"ZDC_WSi_Hits.energy\"][i])\n",
    "        cellID = np.array(data[\"ZDC_WSi_Hits.cellID\"][i])\n",
    "        layerID = bitExtract(cellID, 6, 8) + 2\n",
    "        df = pd.DataFrame({f'{index}': energies, 'layerID': layerID})\n",
    "        layers = df.groupby(\"layerID\").sum()\n",
    "        edep = pd.concat([edep,layers[f'{index}']],axis=1)\n",
    "            \n",
    "    return edep.T.replace(np.NaN,0)"
   ]
  },
  {
   "cell_type": "code",
   "execution_count": 9,
   "metadata": {},
   "outputs": [],
   "source": [
    "def pbsi_edep(data, count):\n",
    "    edep = pd.DataFrame(index=np.arange(26,38))\n",
    "    for i in range(count):\n",
    "        index = str(i)\n",
    "        energies = np.array(data[\"ZDC_PbSi_Hits.energy\"][i])\n",
    "        cellID = np.array(data[\"ZDC_PbSi_Hits.cellID\"][i])\n",
    "        layerID = bitExtract(cellID, 6, 8) + 25\n",
    "        df = pd.DataFrame({f'{index}': energies, 'layerID': layerID})\n",
    "        layers = df.groupby(\"layerID\").sum()\n",
    "        edep = pd.concat([edep,layers[f'{index}']],axis=1)\n",
    "            \n",
    "    return edep.T.replace(np.NaN,0)"
   ]
  },
  {
   "cell_type": "code",
   "execution_count": 10,
   "metadata": {},
   "outputs": [],
   "source": [
    "def pbscint_edep(data, count):\n",
    "    edep = pd.DataFrame(index=np.arange(38,68))\n",
    "    for i in range(count):\n",
    "        index = str(i)\n",
    "        energies = np.array(data[\"ZDCHcalHits.energy\"][i])\n",
    "        cellID = np.array(data[\"ZDCHcalHits.cellID\"][i])\n",
    "        layerID = bitExtract(cellID, 6, 8) + 37\n",
    "        df = pd.DataFrame({f'{index}': energies, 'layerID': layerID})\n",
    "        layers = df.groupby(\"layerID\").sum()\n",
    "        edep = pd.concat([edep,layers[f'{index}']],axis=1)\n",
    "            \n",
    "    return edep.T.replace(np.NaN,0)"
   ]
  },
  {
   "attachments": {},
   "cell_type": "markdown",
   "metadata": {},
   "source": [
    "Generate Datasets"
   ]
  },
  {
   "cell_type": "code",
   "execution_count": 226,
   "metadata": {},
   "outputs": [],
   "source": [
    "sipix_data = pd.concat([sipix_edep(samples[key], 10000) for key in samples])"
   ]
  },
  {
   "cell_type": "code",
   "execution_count": 227,
   "metadata": {},
   "outputs": [],
   "source": [
    "crystal_data = pd.concat([crystal_edep(samples[key], 10000) for key in samples])"
   ]
  },
  {
   "cell_type": "code",
   "execution_count": 228,
   "metadata": {},
   "outputs": [],
   "source": [
    "wsi_data = pd.concat([imaging_edep(samples[key], 10000) for key in samples])"
   ]
  },
  {
   "cell_type": "code",
   "execution_count": 229,
   "metadata": {},
   "outputs": [],
   "source": [
    "pbsi_data = pd.concat([pbsi_edep(samples[key], 10000) for key in samples])"
   ]
  },
  {
   "cell_type": "code",
   "execution_count": 230,
   "metadata": {},
   "outputs": [],
   "source": [
    "pbscint_data = pd.concat([pbscint_edep(samples[key], 10000) for key in samples])"
   ]
  },
  {
   "cell_type": "code",
   "execution_count": 232,
   "metadata": {},
   "outputs": [],
   "source": [
    "data_labels = np.concatenate([get_labels(samples[key], 10000) for key in samples])\n",
    "np.savetxt('/home/dmisra/eic/zdc_data/dnn_labels.csv', data_labels)"
   ]
  },
  {
   "cell_type": "code",
   "execution_count": 231,
   "metadata": {},
   "outputs": [],
   "source": [
    "data_features = pd.concat([sipix_data, crystal_data, wsi_data, pbsi_data, pbscint_data], axis=1)\n",
    "data_features.to_csv('/home/dmisra/eic/zdc_data/dnn_features.csv', index=False)"
   ]
  },
  {
   "cell_type": "code",
   "execution_count": 235,
   "metadata": {},
   "outputs": [],
   "source": [
    "data_features_10GeV = data_features.iloc[0:10000]\n",
    "data_features_10GeV.to_csv('/home/dmisra/eic/zdc_data/dnn_features_10GeV.csv', index=False)\n",
    "\n",
    "data_features_20GeV = data_features.iloc[10000:20000]\n",
    "data_features_20GeV.to_csv('/home/dmisra/eic/zdc_data/dnn_features_20GeV.csv', index=False)\n",
    "\n",
    "data_features_50GeV = data_features.iloc[20000:30000]\n",
    "data_features_50GeV.to_csv('/home/dmisra/eic/zdc_data/dnn_features_50GeV.csv', index=False)\n",
    "\n",
    "data_features_100GeV = data_features.iloc[30000:40000]\n",
    "data_features_100GeV.to_csv('/home/dmisra/eic/zdc_data/dnn_features_100GeV.csv', index=False)\n",
    "\n",
    "data_features_150GeV = data_features.iloc[40000:50000]\n",
    "data_features_150GeV.to_csv('/home/dmisra/eic/zdc_data/dnn_features_150GeV.csv', index=False)"
   ]
  },
  {
   "attachments": {},
   "cell_type": "markdown",
   "metadata": {},
   "source": [
    "Load Datasets"
   ]
  },
  {
   "cell_type": "code",
   "execution_count": 401,
   "metadata": {},
   "outputs": [],
   "source": [
    "data_features = pd.read_csv('/home/dmisra/eic/zdc_data/dnn_features.csv')\n",
    "data_labels = np.loadtxt('/home/dmisra/eic/zdc_data/dnn_labels.csv', delimiter=',')"
   ]
  },
  {
   "cell_type": "code",
   "execution_count": 402,
   "metadata": {},
   "outputs": [],
   "source": [
    "data_features_10GeV = pd.read_csv('/home/dmisra/eic/zdc_data/dnn_features_10GeV.csv')\n",
    "data_features_20GeV = pd.read_csv('/home/dmisra/eic/zdc_data/dnn_features_20GeV.csv')\n",
    "data_features_50GeV = pd.read_csv('/home/dmisra/eic/zdc_data/dnn_features_50GeV.csv')\n",
    "data_features_100GeV = pd.read_csv('/home/dmisra/eic/zdc_data/dnn_features_100GeV.csv')\n",
    "data_features_150GeV = pd.read_csv('/home/dmisra/eic/zdc_data/dnn_features_150GeV.csv')"
   ]
  },
  {
   "cell_type": "code",
   "execution_count": 92,
   "metadata": {},
   "outputs": [
    {
     "data": {
      "text/plain": [
       "(array([1.661e+03, 6.210e+02, 4.330e+02, 4.410e+02, 5.340e+02, 4.660e+02,\n",
       "        4.540e+02, 4.670e+02, 3.690e+02, 3.330e+02, 3.420e+02, 2.860e+02,\n",
       "        2.790e+02, 2.510e+02, 2.210e+02, 1.890e+02, 1.670e+02, 1.420e+02,\n",
       "        1.410e+02, 1.190e+02, 1.250e+02, 9.800e+01, 9.300e+01, 8.200e+01,\n",
       "        7.500e+01, 7.600e+01, 5.800e+01, 6.400e+01, 5.000e+01, 4.300e+01,\n",
       "        4.400e+01, 4.300e+01, 4.100e+01, 2.900e+01, 2.000e+01, 2.700e+01,\n",
       "        2.500e+01, 2.000e+01, 1.700e+01, 1.300e+01, 1.400e+01, 1.200e+01,\n",
       "        8.000e+00, 6.000e+00, 8.000e+00, 9.000e+00, 9.000e+00, 5.000e+00,\n",
       "        2.000e+00, 1.000e+00, 2.000e+00, 4.000e+00, 3.000e+00, 5.000e+00,\n",
       "        0.000e+00, 2.000e+00, 3.000e+00, 4.000e+00, 0.000e+00, 1.000e+00,\n",
       "        1.000e+00, 1.000e+00, 0.000e+00, 1.000e+00, 2.000e+00, 2.000e+00,\n",
       "        1.000e+00, 0.000e+00, 1.000e+00, 0.000e+00, 0.000e+00, 0.000e+00,\n",
       "        0.000e+00, 0.000e+00, 0.000e+00, 0.000e+00, 0.000e+00, 0.000e+00,\n",
       "        0.000e+00, 0.000e+00, 0.000e+00, 0.000e+00, 0.000e+00, 0.000e+00,\n",
       "        0.000e+00, 0.000e+00, 0.000e+00, 0.000e+00, 0.000e+00, 0.000e+00,\n",
       "        0.000e+00, 0.000e+00, 0.000e+00, 0.000e+00, 1.000e+00, 0.000e+00,\n",
       "        1.000e+00, 0.000e+00, 0.000e+00]),\n",
       " array([1.00000000e-04, 1.61414141e-03, 3.12828283e-03, 4.64242424e-03,\n",
       "        6.15656566e-03, 7.67070707e-03, 9.18484848e-03, 1.06989899e-02,\n",
       "        1.22131313e-02, 1.37272727e-02, 1.52414141e-02, 1.67555556e-02,\n",
       "        1.82696970e-02, 1.97838384e-02, 2.12979798e-02, 2.28121212e-02,\n",
       "        2.43262626e-02, 2.58404040e-02, 2.73545455e-02, 2.88686869e-02,\n",
       "        3.03828283e-02, 3.18969697e-02, 3.34111111e-02, 3.49252525e-02,\n",
       "        3.64393939e-02, 3.79535354e-02, 3.94676768e-02, 4.09818182e-02,\n",
       "        4.24959596e-02, 4.40101010e-02, 4.55242424e-02, 4.70383838e-02,\n",
       "        4.85525253e-02, 5.00666667e-02, 5.15808081e-02, 5.30949495e-02,\n",
       "        5.46090909e-02, 5.61232323e-02, 5.76373737e-02, 5.91515152e-02,\n",
       "        6.06656566e-02, 6.21797980e-02, 6.36939394e-02, 6.52080808e-02,\n",
       "        6.67222222e-02, 6.82363636e-02, 6.97505051e-02, 7.12646465e-02,\n",
       "        7.27787879e-02, 7.42929293e-02, 7.58070707e-02, 7.73212121e-02,\n",
       "        7.88353535e-02, 8.03494949e-02, 8.18636364e-02, 8.33777778e-02,\n",
       "        8.48919192e-02, 8.64060606e-02, 8.79202020e-02, 8.94343434e-02,\n",
       "        9.09484848e-02, 9.24626263e-02, 9.39767677e-02, 9.54909091e-02,\n",
       "        9.70050505e-02, 9.85191919e-02, 1.00033333e-01, 1.01547475e-01,\n",
       "        1.03061616e-01, 1.04575758e-01, 1.06089899e-01, 1.07604040e-01,\n",
       "        1.09118182e-01, 1.10632323e-01, 1.12146465e-01, 1.13660606e-01,\n",
       "        1.15174747e-01, 1.16688889e-01, 1.18203030e-01, 1.19717172e-01,\n",
       "        1.21231313e-01, 1.22745455e-01, 1.24259596e-01, 1.25773737e-01,\n",
       "        1.27287879e-01, 1.28802020e-01, 1.30316162e-01, 1.31830303e-01,\n",
       "        1.33344444e-01, 1.34858586e-01, 1.36372727e-01, 1.37886869e-01,\n",
       "        1.39401010e-01, 1.40915152e-01, 1.42429293e-01, 1.43943434e-01,\n",
       "        1.45457576e-01, 1.46971717e-01, 1.48485859e-01, 1.50000000e-01]),\n",
       " [<matplotlib.patches.Polygon at 0x7f0beb49b220>])"
      ]
     },
     "execution_count": 92,
     "metadata": {},
     "output_type": "execute_result"
    },
    {
     "data": {
      "image/png": "[encoded data removed]",
      "text/plain": [
       "<Figure size 640x480 with 1 Axes>"
      ]
     },
     "metadata": {},
     "output_type": "display_data"
    }
   ],
   "source": [
    "plt.clf()\n",
    "plt.hist(data_features_50GeV[\"24\"].values, bins=np.linspace(0.0001,0.15,100), histtype=\"step\")\n",
    "plt.hist(data_features_100GeV[\"24\"].values, bins=np.linspace(0.0001,0.15,100), histtype=\"step\")"
   ]
  },
  {
   "attachments": {},
   "cell_type": "markdown",
   "metadata": {},
   "source": [
    "Linear Model"
   ]
  },
  {
   "cell_type": "code",
   "execution_count": 667,
   "metadata": {},
   "outputs": [],
   "source": [
    "import torch\n",
    "from torch import nn\n",
    "from sklearn.model_selection import train_test_split\n",
    "from torch.utils.data import DataLoader, TensorDataset"
   ]
  },
  {
   "cell_type": "code",
   "execution_count": 668,
   "metadata": {},
   "outputs": [
    {
     "data": {
      "text/plain": [
       "<torch._C.Generator at 0x7f0eca100350>"
      ]
     },
     "execution_count": 668,
     "metadata": {},
     "output_type": "execute_result"
    }
   ],
   "source": [
    "device = \"cuda\" if torch.cuda.is_available() else \"cpu\"\n",
    "device\n",
    "torch.manual_seed(42)"
   ]
  },
  {
   "cell_type": "code",
   "execution_count": 669,
   "metadata": {},
   "outputs": [],
   "source": [
    "features = torch.from_numpy(data_features.values).float()\n",
    "\n",
    "labels = torch.from_numpy(data_labels).T.float().unsqueeze(dim=1)"
   ]
  },
  {
   "cell_type": "code",
   "execution_count": 670,
   "metadata": {},
   "outputs": [],
   "source": [
    "features_10GeV = torch.from_numpy(data_features_10GeV.values).float()\n",
    "features_20GeV = torch.from_numpy(data_features_20GeV.values).float()\n",
    "features_50GeV = torch.from_numpy(data_features_50GeV.values).float()\n",
    "features_100GeV = torch.from_numpy(data_features_100GeV.values).float()\n",
    "features_150GeV = torch.from_numpy(data_features_150GeV.values).float()"
   ]
  },
  {
   "cell_type": "code",
   "execution_count": 671,
   "metadata": {},
   "outputs": [],
   "source": [
    "#Split train/test data\n",
    "x_train, x_test, y_train, y_test = train_test_split(features, labels, test_size=0.2, random_state=42)"
   ]
  },
  {
   "cell_type": "code",
   "execution_count": 672,
   "metadata": {},
   "outputs": [],
   "source": [
    "dataset = TensorDataset(x_train, y_train)\n",
    "dataloader = DataLoader(dataset, batch_size=100, shuffle=True)"
   ]
  },
  {
   "cell_type": "code",
   "execution_count": 699,
   "metadata": {},
   "outputs": [],
   "source": [
    "class Model(nn.Module):\n",
    "    def __init__(self, input_shape: int, output_shape: int):\n",
    "        super().__init__()\n",
    "        self.linear = nn.Linear(in_features=input_shape, out_features=output_shape)\n",
    "        \n",
    "    def forward(self,x):\n",
    "        out = self.linear(x)\n",
    "        return out"
   ]
  },
  {
   "cell_type": "code",
   "execution_count": 700,
   "metadata": {},
   "outputs": [],
   "source": [
    "model_1 = Model(input_shape=67, output_shape=1)"
   ]
  },
  {
   "cell_type": "code",
   "execution_count": 627,
   "metadata": {},
   "outputs": [],
   "source": [
    "custom_weight = torch.zeros(model_1.linear.weight.shape)\n",
    "custom_weight.shape\n",
    "custom_bias = torch.Tensor([2.71])"
   ]
  },
  {
   "cell_type": "code",
   "execution_count": 628,
   "metadata": {},
   "outputs": [],
   "source": [
    "custom_weight[0,0] = 1.77\n",
    "custom_weight[0,1] = 1.16\n",
    "custom_weight[0,2:25] = 101.07\n",
    "custom_weight[0,25:37] = 402.79\n",
    "custom_weight[0,37:67] = 60.02"
   ]
  },
  {
   "cell_type": "code",
   "execution_count": 629,
   "metadata": {},
   "outputs": [],
   "source": [
    "model_1.linear.weight = torch.nn.Parameter(custom_weight)\n",
    "model_1.linear.bias = torch.nn.Parameter(custom_bias)"
   ]
  },
  {
   "cell_type": "code",
   "execution_count": 701,
   "metadata": {},
   "outputs": [],
   "source": [
    "def custom_loss(output, target):\n",
    "    loss = torch.mean(((output - target)*target**(-1))**2)\n",
    "    return loss"
   ]
  },
  {
   "cell_type": "code",
   "execution_count": 702,
   "metadata": {},
   "outputs": [],
   "source": [
    "learning_rate = 0.001\n",
    "loss_fn = custom_loss\n",
    "optimizer = torch.optim.Adam(model_1.parameters(),lr=learning_rate)"
   ]
  },
  {
   "cell_type": "code",
   "execution_count": 703,
   "metadata": {},
   "outputs": [
    {
     "name": "stdout",
     "output_type": "stream",
     "text": [
      "Epoch: 0 | MSE Train Loss: 0.9343544244766235 | MSE Test Loss: 0.9399679899215698\n",
      "Epoch: 100 | MSE Train Loss: 0.20886094868183136 | MSE Test Loss: 0.21559862792491913\n",
      "Epoch: 200 | MSE Train Loss: 0.10699616372585297 | MSE Test Loss: 0.1055600717663765\n",
      "Epoch: 300 | MSE Train Loss: 0.06780612468719482 | MSE Test Loss: 0.0679076537489891\n",
      "Epoch: 400 | MSE Train Loss: 0.07235726714134216 | MSE Test Loss: 0.05295732989907265\n",
      "Epoch: 500 | MSE Train Loss: 0.05515585467219353 | MSE Test Loss: 0.044236477464437485\n",
      "Epoch: 600 | MSE Train Loss: 0.026815181598067284 | MSE Test Loss: 0.03858155384659767\n",
      "Epoch: 700 | MSE Train Loss: 0.03793295472860336 | MSE Test Loss: 0.03493398055434227\n",
      "Epoch: 800 | MSE Train Loss: 0.026415204629302025 | MSE Test Loss: 0.03263762593269348\n",
      "Epoch: 900 | MSE Train Loss: 0.01765795238316059 | MSE Test Loss: 0.031208526343107224\n",
      "Epoch: 1000 | MSE Train Loss: 0.07031868398189545 | MSE Test Loss: 0.030320538207888603\n",
      "Epoch: 1100 | MSE Train Loss: 0.029068170115351677 | MSE Test Loss: 0.02976701594889164\n",
      "Epoch: 1200 | MSE Train Loss: 0.039703622460365295 | MSE Test Loss: 0.029418358579277992\n",
      "Epoch: 1300 | MSE Train Loss: 0.025775540620088577 | MSE Test Loss: 0.029199527576565742\n",
      "Epoch: 1400 | MSE Train Loss: 0.03244948014616966 | MSE Test Loss: 0.029061945155262947\n",
      "Epoch: 1500 | MSE Train Loss: 0.026061363518238068 | MSE Test Loss: 0.028976043686270714\n",
      "Epoch: 1600 | MSE Train Loss: 0.04555794596672058 | MSE Test Loss: 0.028923870995640755\n",
      "Epoch: 1700 | MSE Train Loss: 0.019901301711797714 | MSE Test Loss: 0.02889285981655121\n",
      "Epoch: 1800 | MSE Train Loss: 0.0378599651157856 | MSE Test Loss: 0.02887587621808052\n",
      "Epoch: 1900 | MSE Train Loss: 0.030039729550480843 | MSE Test Loss: 0.0288676880300045\n",
      "Epoch: 2000 | MSE Train Loss: 0.01789754070341587 | MSE Test Loss: 0.028865579515695572\n",
      "Epoch: 2100 | MSE Train Loss: 0.0193458441644907 | MSE Test Loss: 0.02886696718633175\n",
      "Epoch: 2200 | MSE Train Loss: 0.023758020251989365 | MSE Test Loss: 0.028870590031147003\n",
      "Epoch: 2300 | MSE Train Loss: 0.020225338637828827 | MSE Test Loss: 0.0288748387247324\n",
      "Epoch: 2400 | MSE Train Loss: 0.017324544489383698 | MSE Test Loss: 0.028879983350634575\n",
      "Epoch: 2500 | MSE Train Loss: 0.03726789355278015 | MSE Test Loss: 0.0288864616304636\n",
      "Epoch: 2600 | MSE Train Loss: 0.032118503004312515 | MSE Test Loss: 0.028891785070300102\n",
      "Epoch: 2700 | MSE Train Loss: 0.022624611854553223 | MSE Test Loss: 0.02889776974916458\n",
      "Epoch: 2800 | MSE Train Loss: 0.028147339820861816 | MSE Test Loss: 0.028902731835842133\n",
      "Epoch: 2900 | MSE Train Loss: 0.03650287911295891 | MSE Test Loss: 0.028907543048262596\n",
      "Epoch: 3000 | MSE Train Loss: 0.038957882672548294 | MSE Test Loss: 0.028912527486681938\n",
      "Epoch: 3100 | MSE Train Loss: 0.027874331921339035 | MSE Test Loss: 0.028916524723172188\n",
      "Epoch: 3200 | MSE Train Loss: 0.029321182519197464 | MSE Test Loss: 0.02892146073281765\n",
      "Epoch: 3300 | MSE Train Loss: 0.0223552156239748 | MSE Test Loss: 0.02892475016415119\n",
      "Epoch: 3400 | MSE Train Loss: 0.01564199849963188 | MSE Test Loss: 0.02892870455980301\n",
      "Epoch: 3500 | MSE Train Loss: 0.030213816091418266 | MSE Test Loss: 0.02893182449042797\n",
      "Epoch: 3600 | MSE Train Loss: 0.016919048503041267 | MSE Test Loss: 0.028934631496667862\n",
      "Epoch: 3700 | MSE Train Loss: 0.01873931474983692 | MSE Test Loss: 0.02893814444541931\n",
      "Epoch: 3800 | MSE Train Loss: 0.0330016054213047 | MSE Test Loss: 0.028941147029399872\n",
      "Epoch: 3900 | MSE Train Loss: 0.021659227088093758 | MSE Test Loss: 0.028943847864866257\n",
      "Epoch: 4000 | MSE Train Loss: 0.034793104976415634 | MSE Test Loss: 0.02894631400704384\n"
     ]
    },
    {
     "ename": "KeyboardInterrupt",
     "evalue": "",
     "output_type": "error",
     "traceback": [
      "\u001b[0;31m---------------------------------------------------------------------------\u001b[0m",
      "\u001b[0;31mKeyboardInterrupt\u001b[0m                         Traceback (most recent call last)",
      "Cell \u001b[0;32mIn[703], line 13\u001b[0m\n\u001b[1;32m      9\u001b[0m \u001b[39mfor\u001b[39;00m epoch \u001b[39min\u001b[39;00m \u001b[39mrange\u001b[39m(epochs):\n\u001b[1;32m     11\u001b[0m     model_1\u001b[39m.\u001b[39mtrain()\n\u001b[0;32m---> 13\u001b[0m     \u001b[39mfor\u001b[39;00m inputs, labels \u001b[39min\u001b[39;00m dataloader:\n\u001b[1;32m     14\u001b[0m \n\u001b[1;32m     15\u001b[0m         \u001b[39m###Training\u001b[39;00m\n\u001b[1;32m     16\u001b[0m         y_pred \u001b[39m=\u001b[39m model_1(inputs)\n\u001b[1;32m     17\u001b[0m         loss \u001b[39m=\u001b[39m loss_fn(y_pred, labels)\n",
      "File \u001b[0;32m~/miniconda3/lib/python3.10/site-packages/torch/utils/data/dataloader.py:628\u001b[0m, in \u001b[0;36m_BaseDataLoaderIter.__next__\u001b[0;34m(self)\u001b[0m\n\u001b[1;32m    625\u001b[0m \u001b[39mif\u001b[39;00m \u001b[39mself\u001b[39m\u001b[39m.\u001b[39m_sampler_iter \u001b[39mis\u001b[39;00m \u001b[39mNone\u001b[39;00m:\n\u001b[1;32m    626\u001b[0m     \u001b[39m# TODO(https://github.com/pytorch/pytorch/issues/76750)\u001b[39;00m\n\u001b[1;32m    627\u001b[0m     \u001b[39mself\u001b[39m\u001b[39m.\u001b[39m_reset()  \u001b[39m# type: ignore[call-arg]\u001b[39;00m\n\u001b[0;32m--> 628\u001b[0m data \u001b[39m=\u001b[39m \u001b[39mself\u001b[39;49m\u001b[39m.\u001b[39;49m_next_data()\n\u001b[1;32m    629\u001b[0m \u001b[39mself\u001b[39m\u001b[39m.\u001b[39m_num_yielded \u001b[39m+\u001b[39m\u001b[39m=\u001b[39m \u001b[39m1\u001b[39m\n\u001b[1;32m    630\u001b[0m \u001b[39mif\u001b[39;00m \u001b[39mself\u001b[39m\u001b[39m.\u001b[39m_dataset_kind \u001b[39m==\u001b[39m _DatasetKind\u001b[39m.\u001b[39mIterable \u001b[39mand\u001b[39;00m \\\n\u001b[1;32m    631\u001b[0m         \u001b[39mself\u001b[39m\u001b[39m.\u001b[39m_IterableDataset_len_called \u001b[39mis\u001b[39;00m \u001b[39mnot\u001b[39;00m \u001b[39mNone\u001b[39;00m \u001b[39mand\u001b[39;00m \\\n\u001b[1;32m    632\u001b[0m         \u001b[39mself\u001b[39m\u001b[39m.\u001b[39m_num_yielded \u001b[39m>\u001b[39m \u001b[39mself\u001b[39m\u001b[39m.\u001b[39m_IterableDataset_len_called:\n",
      "File \u001b[0;32m~/miniconda3/lib/python3.10/site-packages/torch/utils/data/dataloader.py:671\u001b[0m, in \u001b[0;36m_SingleProcessDataLoaderIter._next_data\u001b[0;34m(self)\u001b[0m\n\u001b[1;32m    669\u001b[0m \u001b[39mdef\u001b[39;00m \u001b[39m_next_data\u001b[39m(\u001b[39mself\u001b[39m):\n\u001b[1;32m    670\u001b[0m     index \u001b[39m=\u001b[39m \u001b[39mself\u001b[39m\u001b[39m.\u001b[39m_next_index()  \u001b[39m# may raise StopIteration\u001b[39;00m\n\u001b[0;32m--> 671\u001b[0m     data \u001b[39m=\u001b[39m \u001b[39mself\u001b[39;49m\u001b[39m.\u001b[39;49m_dataset_fetcher\u001b[39m.\u001b[39;49mfetch(index)  \u001b[39m# may raise StopIteration\u001b[39;00m\n\u001b[1;32m    672\u001b[0m     \u001b[39mif\u001b[39;00m \u001b[39mself\u001b[39m\u001b[39m.\u001b[39m_pin_memory:\n\u001b[1;32m    673\u001b[0m         data \u001b[39m=\u001b[39m _utils\u001b[39m.\u001b[39mpin_memory\u001b[39m.\u001b[39mpin_memory(data, \u001b[39mself\u001b[39m\u001b[39m.\u001b[39m_pin_memory_device)\n",
      "\u001b[0;31mKeyboardInterrupt\u001b[0m: "
     ]
    }
   ],
   "source": [
    "#Set number of epochs\n",
    "epochs = 5000\n",
    "\n",
    "#Create lists to track loss values\n",
    "train_loss_values = []\n",
    "test_loss_values = []\n",
    "epoch_count = []\n",
    "\n",
    "for epoch in range(epochs):\n",
    "\n",
    "    model_1.train()\n",
    "\n",
    "    for inputs, labels in dataloader:\n",
    "\n",
    "        ###Training\n",
    "        y_pred = model_1(inputs)\n",
    "        loss = loss_fn(y_pred, labels)\n",
    "        optimizer.zero_grad()\n",
    "        loss.backward()\n",
    "        optimizer.step()\n",
    "\n",
    "    ###Testing\n",
    "    model_1.eval()\n",
    "\n",
    "    with torch.inference_mode():\n",
    "        test_pred = model_1(x_test)\n",
    "        test_loss = loss_fn(test_pred, y_test.type(torch.float))\n",
    "\n",
    "        if epoch % 100 == 0:\n",
    "            epoch_count.append(epoch)\n",
    "            train_loss_values.append(loss.detach().numpy())\n",
    "            test_loss_values.append(test_loss.detach().numpy())\n",
    "            print(f\"Epoch: {epoch} | MSE Train Loss: {loss} | MSE Test Loss: {test_loss}\")\n"
   ]
  },
  {
   "cell_type": "code",
   "execution_count": 704,
   "metadata": {},
   "outputs": [
    {
     "data": {
      "text/plain": [
       "<matplotlib.legend.Legend at 0x7f0bf3ce4c10>"
      ]
     },
     "execution_count": 704,
     "metadata": {},
     "output_type": "execute_result"
    },
    {
     "data": {
      "image/png": "[encoded data removed]",
      "text/plain": [
       "<Figure size 640x480 with 1 Axes>"
      ]
     },
     "metadata": {},
     "output_type": "display_data"
    }
   ],
   "source": [
    "# Plot the loss curves\n",
    "plt.plot(epoch_count, train_loss_values, label=\"Train loss\")\n",
    "plt.plot(epoch_count, test_loss_values, label=\"Test loss\")\n",
    "plt.title(\"Training and Test Loss Curves\")\n",
    "plt.ylabel(\"Loss\")\n",
    "plt.xlabel(\"Epochs\")\n",
    "plt.legend()"
   ]
  },
  {
   "attachments": {},
   "cell_type": "markdown",
   "metadata": {},
   "source": [
    "Predictions"
   ]
  },
  {
   "cell_type": "code",
   "execution_count": 705,
   "metadata": {},
   "outputs": [],
   "source": [
    "from scipy.stats import norm\n",
    "from scipy.optimize import curve_fit"
   ]
  },
  {
   "cell_type": "code",
   "execution_count": 706,
   "metadata": {},
   "outputs": [
    {
     "data": {
      "image/png": "[encoded data removed]",
      "text/plain": [
       "<Figure size 640x480 with 1 Axes>"
      ]
     },
     "metadata": {},
     "output_type": "display_data"
    }
   ],
   "source": [
    "#Set the model in evaluation mode\n",
    "model_1.eval()\n",
    "\n",
    "#Setup the inference mode context manager\n",
    "with torch.inference_mode():\n",
    "  y_preds = model_1(x_test)\n",
    "\n",
    "plt.hist(y_preds[:,0].numpy(),150,histtype='step')\n",
    "plt.xlabel('Energy (GeV)')\n",
    "plt.ylabel('Count')\n",
    "plt.title('Predicted Energy Distribution')\n",
    "plt.savefig(\"dnn_distibution.pdf\")"
   ]
  },
  {
   "cell_type": "code",
   "execution_count": 707,
   "metadata": {},
   "outputs": [],
   "source": [
    "def tensorIntersect(t1, t2):\n",
    "    a = set((tuple(i) for i in t1.numpy()))\n",
    "    b = set((tuple(i) for i in t2.numpy()))\n",
    "    c = a.intersection(b)\n",
    "    tensorform = torch.from_numpy(np.array(list(c)))\n",
    "\n",
    "    return tensorform"
   ]
  },
  {
   "cell_type": "code",
   "execution_count": 708,
   "metadata": {},
   "outputs": [],
   "source": [
    "test_150GeV = tensorIntersect(features_150GeV, x_test)\n",
    "test_100GeV = tensorIntersect(features_100GeV, x_test)\n",
    "test_50GeV = tensorIntersect(features_50GeV, x_test)\n",
    "test_20GeV = tensorIntersect(features_20GeV, x_test)\n",
    "test_10GeV = tensorIntersect(features_10GeV, x_test)"
   ]
  },
  {
   "cell_type": "code",
   "execution_count": 709,
   "metadata": {},
   "outputs": [],
   "source": [
    "#Set the model in evaluation mode\n",
    "model_1.eval()\n",
    "\n",
    "#Setup the inference mode context manager\n",
    "with torch.inference_mode():\n",
    "  y_preds_150GeV = model_1(test_150GeV)\n",
    "  y_preds_100GeV = model_1(test_100GeV)\n",
    "  y_preds_50GeV = model_1(test_50GeV)\n",
    "  y_preds_20GeV = model_1(test_20GeV)\n",
    "  y_preds_10GeV = model_1(test_10GeV)"
   ]
  },
  {
   "cell_type": "code",
   "execution_count": 710,
   "metadata": {},
   "outputs": [
    {
     "data": {
      "text/plain": [
       "(10.232771, 19.732288, 48.14091, 94.992065, 140.87253)"
      ]
     },
     "execution_count": 710,
     "metadata": {},
     "output_type": "execute_result"
    }
   ],
   "source": [
    "peak_preds = norm.fit(y_preds_10GeV)[0], norm.fit(y_preds_20GeV)[0], norm.fit(y_preds_50GeV)[0], norm.fit(y_preds_100GeV)[0], norm.fit(y_preds_150GeV)[0]\n",
    "true_peaks = [10,20,50,100,150]\n",
    "peak_preds"
   ]
  },
  {
   "cell_type": "code",
   "execution_count": 694,
   "metadata": {},
   "outputs": [
    {
     "data": {
      "image/png": "[encoded data removed]",
      "text/plain": [
       "<Figure size 640x480 with 1 Axes>"
      ]
     },
     "metadata": {},
     "output_type": "display_data"
    }
   ],
   "source": [
    "plt.scatter(true_peaks,peak_preds)\n",
    "plt.xlabel('Particle Energy (GeV)')\n",
    "plt.ylabel('Reconstructed Energy (GeV)')\n",
    "plt.plot(np.arange(1,201),np.arange(1,201))\n",
    "plt.title('Linearity')\n",
    "plt.savefig(\"dnn_linearity.pdf\")"
   ]
  },
  {
   "cell_type": "code",
   "execution_count": 711,
   "metadata": {},
   "outputs": [],
   "source": [
    "#Get energy resolution from distribution of predictions\n",
    "def res(preds,energy):\n",
    "    return norm.fit(preds)[1]/energy\n",
    "\n",
    "energy_list = [150,100,50,20,10]\n",
    "resolutions = res(y_preds_150GeV,150), res(y_preds_100GeV,100), res(y_preds_50GeV,50), res(y_preds_20GeV,20), res(y_preds_10GeV,10)"
   ]
  },
  {
   "cell_type": "code",
   "execution_count": 712,
   "metadata": {},
   "outputs": [],
   "source": [
    "#Curve fit for energy resolution as a function of energy\n",
    "def f(E,a,b):\n",
    "    return np.sqrt((a/np.sqrt(E))**2 + b**2)\n",
    "\n",
    "popt, pcov = curve_fit(f, energy_list, resolutions)"
   ]
  },
  {
   "cell_type": "code",
   "execution_count": 713,
   "metadata": {},
   "outputs": [
    {
     "data": {
      "text/plain": [
       "(array([0.80860262, 0.05114955]),\n",
       " array([[ 3.90517683e-04, -1.06672193e-04],\n",
       "        [-1.06672193e-04,  7.07872647e-05]]))"
      ]
     },
     "execution_count": 713,
     "metadata": {},
     "output_type": "execute_result"
    }
   ],
   "source": [
    "popt, pcov"
   ]
  },
  {
   "cell_type": "code",
   "execution_count": 644,
   "metadata": {},
   "outputs": [
    {
     "data": {
      "image/png": "[encoded data removed]",
      "text/plain": [
       "<Figure size 640x480 with 1 Axes>"
      ]
     },
     "metadata": {},
     "output_type": "display_data"
    }
   ],
   "source": [
    "plt.plot(range(200),f(range(1,201),popt[0], popt[1]))\n",
    "plt.scatter(energy_list,resolutions)\n",
    "plt.xlabel('Energy (GeV)')\n",
    "plt.ylabel('Resolution')\n",
    "plt.title('Energy Resolution')\n",
    "plt.savefig(\"dnn_res.pdf\")"
   ]
  },
  {
   "cell_type": "code",
   "execution_count": 222,
   "metadata": {},
   "outputs": [],
   "source": [
    "torch.save(obj=model_1.state_dict(), f=\"/home/dmisra/eic/model_2\")"
   ]
  },
  {
   "cell_type": "code",
   "execution_count": 496,
   "metadata": {},
   "outputs": [
    {
     "data": {
      "text/plain": [
       "<All keys matched successfully>"
      ]
     },
     "execution_count": 496,
     "metadata": {},
     "output_type": "execute_result"
    }
   ],
   "source": [
    "model_1.load_state_dict(torch.load('/home/dmisra/eic/model_2'))"
   ]
  },
  {
   "cell_type": "code",
   "execution_count": 714,
   "metadata": {},
   "outputs": [
    {
     "data": {
      "text/plain": [
       "<matplotlib.collections.PathCollection at 0x7f0bf3b30e50>"
      ]
     },
     "execution_count": 714,
     "metadata": {},
     "output_type": "execute_result"
    },
    {
     "data": {
      "image/png": "[encoded data removed]",
      "text/plain": [
       "<Figure size 640x480 with 1 Axes>"
      ]
     },
     "metadata": {},
     "output_type": "display_data"
    }
   ],
   "source": [
    "plt.scatter(np.arange(1,68), model_1.state_dict()['linear.weight'][0].numpy(), s=10)"
   ]
  },
  {
   "cell_type": "code",
   "execution_count": 717,
   "metadata": {},
   "outputs": [
    {
     "data": {
      "text/plain": [
       "array(1.662299, dtype=float32)"
      ]
     },
     "execution_count": 717,
     "metadata": {},
     "output_type": "execute_result"
    }
   ],
   "source": [
    "model_1.state_dict()['linear.bias'][0].numpy()"
   ]
  }
 ],
 "metadata": {
  "jupytext": {
   "formats": "ipynb,py:percent"
  },
  "kernelspec": {
   "display_name": "base",
   "language": "python",
   "name": "python3"
  },
  "language_info": {
   "codemirror_mode": {
    "name": "ipython",
    "version": 3
   },
   "file_extension": ".py",
   "mimetype": "text/x-python",
   "name": "python",
   "nbconvert_exporter": "python",
   "pygments_lexer": "ipython3",
   "version": "3.10.9"
  },
  "vscode": {
   "interpreter": {
    "hash": "be0ad538c402c22927254208aecd010220eb94d12e6a2da33653e1d12172e2c8"
   }
  }
 },
 "nbformat": 4,
 "nbformat_minor": 2
}
